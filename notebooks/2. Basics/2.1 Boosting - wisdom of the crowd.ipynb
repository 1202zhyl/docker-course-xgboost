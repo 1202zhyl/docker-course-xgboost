{
 "cells": [
  {
   "cell_type": "markdown",
   "metadata": {},
   "source": [
    "# Parrot Predictions Courses"
   ]
  },
  {
   "cell_type": "markdown",
   "metadata": {},
   "source": [
    "## Boosting - Wisdom of the Crowd\n",
    "\n",
    "1. <a href=\"#idea-of-boosting\">Idea of boosting</a>\n",
    "2. <a href=\"#weak-classifier\">Weak classifier - why tree?</a>\n",
    "3. <a href=\"#common-algorithms\">Common algorithms</a>\n",
    "4. <a href=\"#how-xgboost-helps\">How XGBoost helps?</a>\n",
    "5. <a href=\"#examples\">Examples</a>"
   ]
  },
  {
   "cell_type": "markdown",
   "metadata": {},
   "source": [
    "### Idea of boosting <a name='idea-of-boosting' />\n",
    "Let's start with intuitive definition of the concept:\n",
    "> **Boosting** (*Freud and Shapire, 1996*) - algorithm allowing to fit **many** weak classifiers to **reweighted** versions of the training data. Classify final examples by majority voting.\n",
    "\n",
    "When using boosting techinque all instance in dataset is assigned a score, that is telling *how difficult to classify* it is. In each following iteration the algorithm pay more attention (assign bigger weights) to instances that were previously wrongly classified.\n",
    "\n",
    "<img src='../images/boosting.png' alt='boosting' style=\"width: 500px;\"/>\n",
    "\n",
    "For the first iteration all weight are equal.\n",
    "\n",
    "Ensemble parameters are optimized in **stagewise way** which means that we are calculating optimal parameters for the next classifier holding fixed what was already calculated. This might sound like a limitation but turns out it's a very resonable way of regularizing the model."
   ]
  },
  {
   "cell_type": "markdown",
   "metadata": {},
   "source": [
    "### Weak classifier - why tree? <a name='weak-classifier' />\n",
    "First what is a weak classifier?\n",
    "> **Weak Classifier** - algorithm **slightly better** than random guessing.\n",
    "\n",
    "Every algorithm can be used as a base for boosting techinique, but trees have some nice properties that makes them more suitable candidates.\n",
    "\n",
    "#### Pro's\n",
    "- computational scalability,\n",
    "- handling missing values,\n",
    "- robust to outliers,\n",
    "- does not require feature scalling,\n",
    "- can deal with irrelevant inputs,\n",
    "- interpretable (if small),\n",
    "- can handle mixed predictors (quantitive and qualitative)\n",
    "\n",
    "#### Con's\n",
    "- can't extract linear combination of features\n",
    "- small predictive power (high variance)\n",
    "\n",
    "Boosting techinque can try to reduce the variance by **averaging** many **different** trees (where each one is solving the same problem)"
   ]
  },
  {
   "cell_type": "markdown",
   "metadata": {
    "collapsed": true
   },
   "source": [
    "### Common Algorithms (warning MATH INCLUDED) <a name='common-algorithms' />\n",
    "\n",
    "In every machine learning model the training objective is a sum of a loss function $L$ and regularization $\\Omega$:\n",
    "\n",
    "$$\n",
    "obj = L + \\Omega\n",
    "$$\n",
    "\n",
    "The loss function controls the predictive power of an algorithm and regularization term controls it's simplicity.\n",
    "\n",
    "#### AdaBoost (Adaptive Boosting)\n",
    "The actual implementation of boosting technique using decision tress (it's a *meta-estimator* which means you can fit any classifier in). The intuitive recipie is presented below:\n",
    "\n",
    "**Algorithm**:\n",
    "\n",
    "Assume that the number of training samples is denoted by $N$, and the number of iterations (created trees) is $M$. Notice that possible class outputs are $Y=\\{-1,1\\}$\n",
    "\n",
    "1. Initialize the observation weights $w_i=\\frac{1}{N}$ where $i = 1,2, \\dots, N$\n",
    "2. For $m=1$ to $M$:\n",
    "    - fit a classifier $G_m(x)$ to the training data using weights $w_i$,\n",
    "    - compute $err_m = \\frac{\\sum_{i=1}^{N} w_i I (y_i \\neq G_m(x))}{\\sum_{i=1}^{N}w_i}$,\n",
    "    - compute $\\alpha_m = \\log ((1-err_m)/err_m)$,\n",
    "    - set $w_i \\leftarrow w_i \\cdot \\exp [\\alpha_m \\cdot I (y_i \\neq G_m(x)]$, where $i = 1,2, \\dots, N$\n",
    "3. Output $G_m(x) = sign [\\sum_{m=1}^{M} \\alpha_m G_m(x)]$\n",
    "\n",
    "#### Generalized Boosted Models\n",
    "We can take advantage of the fact that the loss function can be represented with a form suitable for optimalization (due to the stage-wise additivity). This creates a class of general boosting algorithms named simply **generalized boosted model (GBM)**.\n",
    "\n",
    "An example of a GBM is **Gradient Boosted Tree** which uses decision tree as an estimator. It can work with different loss functions (regression, K-class classification, risk modeling etc.), evaluate it's  gradient and approximates it with a simple tree (stage-wisely, that minimizes the overall error).\n",
    "\n",
    "AdaBoost is a special case of Gradient Boosted Tree that uses exponential loss function. You can learn more about GBM in this [video](https://www.youtube.com/watch?v=wPqtzj5VZus&feature=youtu.be)."
   ]
  },
  {
   "cell_type": "markdown",
   "metadata": {},
   "source": [
    "### How XGBoost helps <a name='how-xgboost-helps' />\n",
    "The problem with most tree packages is that they don't take regularization issues very seriously - they allow to grow many very similar trees that can be also sometimes bushy. \n",
    "\n",
    "GBT tries to approach this problem by adding some regularization parameters - we can:\n",
    "- control tree structure (maximum depth, minimum samples per leaf),\n",
    "- control learning rate (shrinkage),\n",
    "- reduce variance by introducing randomness (stochastic gradient boosting - using random subsamples of instances and features)\n",
    "\n",
    "> **XGBoost** (*extreme gradient boosting*) is a **more regularized** version of Gradient Boosted Trees.\n",
    "\n",
    "It was develop by Tianqi Chen in C++ but also enables interfaces for Python, R, Julia. Used for supervised learning problem gave win to [many Kaggle competitions](https://github.com/dmlc/xgboost/tree/master/demo#machine-learning-challenge-winning-solutions).\n",
    "\n",
    "The main advantages:\n",
    "- good bias-variance (simple-predictive) trade-off \"out of the box\",\n",
    "- great computation speed,\n",
    "- package is evolving (author is willing to accept many PR from community)\n",
    "\n",
    "XGBoost's objective function is a sum of a specific loss function evaluated over all predictions and a sum of regularization term for all predictors ($K$ trees). In the formula $f_k$ means a prediction coming from k-th tree.\n",
    "\n",
    "$$\n",
    "obj(\\theta) = \\sum_{i}^{n} l(y_i - \\hat{y_i}) +  \\sum_{k=1}^{K} \\Omega (f_k)\n",
    "$$\n",
    "\n",
    "Loss function depends on the task being performed (classification, regression, etc.) and a regularization term is described by the following equation:\n",
    "\n",
    "$$\n",
    "\\Omega(f) = \\gamma T + \\frac{1}{2} \\lambda \\sum_{j=1}^{T}w_j^2\n",
    "$$\n",
    "\n",
    "First part ($\\gamma T$) is responsible for controlling the overall number of created leaves, and the second term ($\\frac{1}{2} \\lambda \\sum_{j=1}^{T}w_j^2$) watches over the their's scores.\n",
    "\n",
    "To optimize the objective a gradient descent is used, this leads to a problem of finding an optimal structure of the successive tree. More mathematics about the algorithm is not included in the scope of this course, but pretty decent informations can be found on the package [docs page](http://xgboost.readthedocs.io/) and in [this](http://www.slideshare.net/ShangxuanZhang/xgboost) presentation."
   ]
  },
  {
   "cell_type": "markdown",
   "metadata": {},
   "source": [
    "### Examples <a name='examples' />\n",
    "Now let's time to see how boosting is applied in practice. Hopefully the `scikit-learn` package provides all described packages. Begin with importing all required libraries. XGBoost package will be described more in later lectures."
   ]
  },
  {
   "cell_type": "code",
   "execution_count": null,
   "metadata": {
    "collapsed": false
   },
   "outputs": [],
   "source": [
    "import numpy as np\n",
    "import subprocess\n",
    "\n",
    "from IPython.display import Image\n",
    "\n",
    "from collections import Counter\n",
    "\n",
    "from sklearn.datasets import make_classification\n",
    "from sklearn.cross_validation import train_test_split\n",
    "from sklearn.metrics import log_loss, accuracy_score\n",
    "\n",
    "# classifiers\n",
    "from sklearn.tree import DecisionTreeClassifier, export_graphviz\n",
    "from sklearn.ensemble import AdaBoostClassifier\n",
    "from sklearn.ensemble import GradientBoostingClassifier\n",
    "\n",
    "# reproducibility\n",
    "seed = 104\n",
    "np.random.seed(seed)"
   ]
  },
  {
   "cell_type": "markdown",
   "metadata": {},
   "source": [
    "In all examples we will be dealing with **binary classification**.  Generate 20 dimensional artificial dataset with 1000 samples, where 8 features holding information, 3 are redundant and 2 repeated."
   ]
  },
  {
   "cell_type": "code",
   "execution_count": null,
   "metadata": {
    "collapsed": false
   },
   "outputs": [],
   "source": [
    "X, y = make_classification(n_samples=1000, n_features=20, n_informative=8, n_redundant=3, n_repeated=2, random_state=seed)"
   ]
  },
  {
   "cell_type": "markdown",
   "metadata": {},
   "source": [
    "And finally split the dataset into train/test parts. It will be useful for validating the performance of all methods."
   ]
  },
  {
   "cell_type": "code",
   "execution_count": null,
   "metadata": {
    "collapsed": false
   },
   "outputs": [],
   "source": [
    "X_train, X_test, y_train, y_test = train_test_split(X, y, test_size=0.2, random_state=seed)"
   ]
  },
  {
   "cell_type": "markdown",
   "metadata": {},
   "source": [
    "All algorithms won't be tuned at this point. A sensible set of default settings will be applied, making the whole things less complicated. [*Logarithmic loss*](https://www.kaggle.com/wiki/LogarithmicLoss) metric was chosen to evaluate the results (it works really nice when we are trying to predict the probability of outcome). along with simple accuracy score. It's also important to remeber about reproducibility - you should always set all `seed` parameters to the same value.\n",
    "\n",
    "Let's perform a target variable distribution sanity check before digging into algorithms."
   ]
  },
  {
   "cell_type": "code",
   "execution_count": null,
   "metadata": {
    "collapsed": false
   },
   "outputs": [],
   "source": [
    "print(\"Train label distribution:\")\n",
    "print(Counter(y_train))\n",
    "\n",
    "print(\"\\nTest label distribution:\")\n",
    "print(Counter(y_test))"
   ]
  },
  {
   "cell_type": "markdown",
   "metadata": {},
   "source": [
    "Target variable is equally distribued across both dataset."
   ]
  },
  {
   "cell_type": "markdown",
   "metadata": {},
   "source": [
    "### Single Decision Tree\n",
    "The following code will create a single decision tree, fit it using training data and evaluate the results using test sample."
   ]
  },
  {
   "cell_type": "code",
   "execution_count": null,
   "metadata": {
    "collapsed": false,
    "scrolled": false
   },
   "outputs": [],
   "source": [
    "decision_tree = DecisionTreeClassifier(random_state=seed)\n",
    "\n",
    "# train classifier\n",
    "decision_tree.fit(X_train, y_train)\n",
    "\n",
    "# predict output\n",
    "decision_tree_y_pred  = decision_tree.predict(X_test)\n",
    "decision_tree_y_pred_prob  = decision_tree.predict_proba(X_test)\n",
    "\n",
    "# evaluation\n",
    "decision_tree_accuracy = accuracy_score(y_test, decision_tree_y_pred)\n",
    "decision_tree_logloss = log_loss(y_test, decision_tree_y_pred_prob)\n",
    "\n",
    "print(\"== Decision Tree ==\")\n",
    "print(\"Accuracy: {0:.2f}\".format(decision_tree_accuracy))\n",
    "print(\"Log loss: {0:.2f}\".format(decision_tree_logloss))\n",
    "print(\"Number of nodes created: {}\".format(decision_tree.tree_.node_count))"
   ]
  },
  {
   "cell_type": "markdown",
   "metadata": {},
   "source": [
    "We can see two things:\n",
    "\n",
    "1. the log loss score is not very promising (due to the fact that leaves in decision tree outputs either `0` or `1` as probability which is heaviliy penalized in case of errors, but the accuracy score is quite decent,\n",
    "2. the tree is complicated (large number of nodes)\n",
    "\n",
    "You can inspect first few predicted outputs, and see that only 2 instances out of 5 were classified correctly."
   ]
  },
  {
   "cell_type": "code",
   "execution_count": null,
   "metadata": {
    "collapsed": false
   },
   "outputs": [],
   "source": [
    "print('True labels:')\n",
    "print(y_test[:5,])\n",
    "print('\\nPredicted labels:')\n",
    "print(decision_tree_y_pred[:5,])\n",
    "print('\\nPredicted probabilities:')\n",
    "print(decision_tree_y_pred_prob[:5,])"
   ]
  },
  {
   "cell_type": "code",
   "execution_count": null,
   "metadata": {
    "collapsed": false
   },
   "outputs": [],
   "source": [
    "dt_viz_file = '../images/dt.dot'\n",
    "dt_png_file = '../images/dt.png'\n",
    "\n",
    "# create visualization\n",
    "export_graphviz(decision_tree, out_file=dt_viz_file)\n",
    "\n",
    "# convert to PNG\n",
    "command = [\"dot\", \"-Tpng\", dt_viz_file, \"-o\", dt_png_file]\n",
    "subprocess.check_call(command)\n",
    "\n",
    "# display image\n",
    "Image(filename=dt_png_file)"
   ]
  },
  {
   "cell_type": "markdown",
   "metadata": {},
   "source": [
    "### AdaBoost\n",
    "In the example below we are creating a AdaBoost classifier running on 1000 iterations (1000 trees created). Also we are growing decision node up to first split (they are called *decision stumps*). We are also going to use `SAMME` algorithm which is inteneded to work with discrete data (output from `base_estimator` is `0` or `1`). Please refer to the [documentation](http://scikit-learn.org/stable/modules/generated/sklearn.ensemble.AdaBoostClassifier.html) and [here](http://scikit-learn.org/stable/auto_examples/ensemble/plot_adaboost_hastie_10_2.html) for more details."
   ]
  },
  {
   "cell_type": "code",
   "execution_count": null,
   "metadata": {
    "collapsed": false,
    "scrolled": false
   },
   "outputs": [],
   "source": [
    "adaboost = AdaBoostClassifier(\n",
    "    base_estimator=DecisionTreeClassifier(max_depth=1),\n",
    "    algorithm='SAMME',\n",
    "    n_estimators=1000,\n",
    "    random_state=seed)\n",
    "\n",
    "# train classifier\n",
    "adaboost.fit(X_train, y_train)\n",
    "\n",
    "# calculate predictions\n",
    "adaboost_y_pred = adaboost.predict(X_test)\n",
    "adaboost_y_pred_prob = adaboost.predict_proba(X_test)\n",
    "\n",
    "# evaluate\n",
    "adaboost_accuracy = accuracy_score(y_test, adaboost_y_pred)\n",
    "adaboost_logloss = log_loss(y_test, adaboost_y_pred_prob)\n",
    "\n",
    "print(\"== AdaBoost ==\")\n",
    "print(\"Accuracy: {0:.2f}\".format(adaboost_accuracy))\n",
    "print(\"Log loss: {0:.2f}\".format(adaboost_logloss))"
   ]
  },
  {
   "cell_type": "markdown",
   "metadata": {},
   "source": [
    "The log-loss metrics is much lower than in single decision tree (mainly to the fact that now we obtain probabilities output). The accuracy is the same, but notice that the structure of the tree is much simpler. We are creating 1000 **decision tree stumps**.\n",
    "\n",
    "Also here a quick peek into predicted values show that now 4 out of 5 first test instances are classified correctly."
   ]
  },
  {
   "cell_type": "code",
   "execution_count": null,
   "metadata": {
    "collapsed": false,
    "scrolled": true
   },
   "outputs": [],
   "source": [
    "print('True labels:')\n",
    "print(y_test[:5,])\n",
    "print('\\nPredicted labels:')\n",
    "print(adaboost_y_pred[:5,])\n",
    "print('\\nPredicted probabilities:')\n",
    "print(adaboost_y_pred_prob[:5,])"
   ]
  },
  {
   "cell_type": "markdown",
   "metadata": {},
   "source": [
    "Just for clarity, let's check how the first tree looks like."
   ]
  },
  {
   "cell_type": "code",
   "execution_count": null,
   "metadata": {
    "collapsed": false
   },
   "outputs": [],
   "source": [
    "ada_t1 = adaboost.estimators_[0]\n",
    "ada_t1_viz_file = '../images/ada-t1.dot'\n",
    "ada_t1_png_file = '../images/ada-t1.png'\n",
    "\n",
    "# create visualization\n",
    "export_graphviz(ada_t1, out_file=ada_t1_viz_file)\n",
    "\n",
    "# convert to PNG\n",
    "command = [\"dot\", \"-Tpng\", ada_t1_viz_file, \"-o\", ada_t1_png_file]\n",
    "subprocess.check_call(command)\n",
    "\n",
    "# display image\n",
    "Image(filename=ada_t1_png_file)"
   ]
  },
  {
   "cell_type": "markdown",
   "metadata": {},
   "source": [
    "What's it's error and contribution into final ensemble"
   ]
  },
  {
   "cell_type": "code",
   "execution_count": null,
   "metadata": {
    "collapsed": false
   },
   "outputs": [],
   "source": [
    "print(\"Error: {0:.2f}\".format(adaboost.estimator_errors_[0]))\n",
    "print(\"Tree importance: {0:.2f}\".format(adaboost.estimator_weights_[0]))"
   ]
  },
  {
   "cell_type": "markdown",
   "metadata": {},
   "source": [
    "### Gradient Boosted Trees\n",
    "Let's construct a gradient boosted tree consiting of 1000 trees where each successive one will be created with gradient optimization. Again we are going to leave most parameters with their default values, specifiy only maximum depth of the tree to 1 (again decision stumps), and setting warm start for more intelligent computations. Please refer to the [docs](http://scikit-learn.org/stable/modules/generated/sklearn.ensemble.GradientBoostingClassifier.html) if something is not clear."
   ]
  },
  {
   "cell_type": "code",
   "execution_count": null,
   "metadata": {
    "collapsed": false,
    "scrolled": false
   },
   "outputs": [],
   "source": [
    "gbc = GradientBoostingClassifier(\n",
    "    max_depth=1,\n",
    "    n_estimators=1000,\n",
    "    warm_start=True,\n",
    "    random_state=seed)\n",
    "gbc.fit(X_train, y_train)\n",
    "\n",
    "# make predictions\n",
    "gbc_y_pred = gbc.predict(X_test)\n",
    "gbc_y_pred_prob = gbc.predict_proba(X_test)\n",
    "\n",
    "# calculate log loss\n",
    "gbc_accuracy = accuracy_score(y_test, gbc_y_pred)\n",
    "gbc_logloss = log_loss(y_test, gbc_y_pred_prob)\n",
    "\n",
    "print(\"== Gradient Boosting ==\")\n",
    "print(\"Accuracy: {0:.2f}\".format(gbc_accuracy))\n",
    "print(\"Log loss: {0:.2f}\".format(gbc_logloss))"
   ]
  },
  {
   "cell_type": "markdown",
   "metadata": {},
   "source": [
    "The obtained results are obviously the best of all presented algorithm. We have obtained most accurate algorithm giving more sensible predictions about class probabilities."
   ]
  },
  {
   "cell_type": "code",
   "execution_count": null,
   "metadata": {
    "collapsed": false
   },
   "outputs": [],
   "source": [
    "print('True labels:')\n",
    "print(y_test[:5,])\n",
    "print('\\nPredicted labels:')\n",
    "print(gbc_y_pred[:5,])\n",
    "print('\\nPredicted probabilities:')\n",
    "print(gbc_y_pred_prob[:5,])"
   ]
  },
  {
   "cell_type": "markdown",
   "metadata": {},
   "source": [
    "The difference is that GBC uses `DecisionTreeRegressor` classifier as the estimator with *mean-square error* as criterion. This results of slightly different output of the tree - now the leaf contains a predicted value (while the first splitting point remains the same)."
   ]
  },
  {
   "cell_type": "code",
   "execution_count": null,
   "metadata": {
    "collapsed": false
   },
   "outputs": [],
   "source": [
    "gbc_t1 = gbc.estimators_[2][0]\n",
    "gbc_t1_viz_file = '../images/gbc-t1.dot'\n",
    "gbc_t1_png_file = '../images/gbc-t1.png'\n",
    "\n",
    "# create visualization\n",
    "export_graphviz(gbc_t1, out_file=gbc_t1_viz_file)\n",
    "\n",
    "# convert to PNG\n",
    "command = [\"dot\", \"-Tpng\", gbc_t1_viz_file, \"-o\", gbc_t1_png_file]\n",
    "subprocess.check_call(command)\n",
    "\n",
    "# display image\n",
    "Image(filename=gbc_t1_png_file)"
   ]
  }
 ],
 "metadata": {
  "kernelspec": {
   "display_name": "Python 3",
   "language": "python",
   "name": "python3"
  },
  "language_info": {
   "codemirror_mode": {
    "name": "ipython",
    "version": 3
   },
   "file_extension": ".py",
   "mimetype": "text/x-python",
   "name": "python",
   "nbconvert_exporter": "python",
   "pygments_lexer": "ipython3",
   "version": "3.5.1"
  }
 },
 "nbformat": 4,
 "nbformat_minor": 0
}
