{
 "cells": [
  {
   "cell_type": "markdown",
   "metadata": {},
   "source": [
    "# Parrot Predictions Courses"
   ]
  },
  {
   "cell_type": "markdown",
   "metadata": {},
   "source": [
    "## Boosting - Wisdom of the Crowd"
   ]
  },
  {
   "cell_type": "markdown",
   "metadata": {},
   "source": [
    "### Idea of boosting\n",
    "Let's start with intuitive definition of the concept:\n",
    "> **Boosting** (*Freud and Shapire, 1996*) - algorithm allowing to fit **many** weak classifiers to **reweighted** versions of the training data. Classify final examples by majority voting.\n",
    "\n",
    "When using boosting techinque all instance in dataset is assigned a score, that is telling *how difficult to classify* it is. In each following iteration the algorithm pay more attention (assign bigger weights) to instances that were previously wrongly classified.\n",
    "\n",
    "<img src='../images/boosting.png' alt='boosting' style=\"width: 500px;\"/>\n",
    "\n",
    "For the first iteration all weight are equal.\n",
    "\n",
    "Ensemble parameters are optimized in **stagewise way** which means that we are calculating optimal parameters for the next classifier holding fixed what was already calculated. This might sound like a limitation but turns out it's a very resonable way of regularizing the model."
   ]
  },
  {
   "cell_type": "markdown",
   "metadata": {},
   "source": [
    "### Weak classifier - why tree?\n",
    "First what is a weak classifier?\n",
    "> **Weak Classifier** - algorithm **slightly better** than random guessing.\n",
    "\n",
    "Every algorithm can be used as a base for boosting techinique, but trees have some nice properties that makes them more suitable candidates.\n",
    "\n",
    "#### Pro's\n",
    "- computational scalability,\n",
    "- handling missing values,\n",
    "- robust to outliers,\n",
    "- does not require feature scalling,\n",
    "- can deal with irrelevant inputs,\n",
    "- interpretable (if small),\n",
    "- can handle mixed predictors (quantitive and qualitative)\n",
    "\n",
    "#### Con's\n",
    "- can't extract linear combination of features\n",
    "- small predictive power (high variance)\n",
    "\n",
    "Boosting techinque can try to reduce the variance by **averaging** many **different** trees (where each one is solving the same problem)"
   ]
  },
  {
   "cell_type": "markdown",
   "metadata": {
    "collapsed": true
   },
   "source": [
    "### Common Algorithms (warning MATH INCLUDED)\n",
    "\n",
    "#### AdaBoost (Adaptive Boosting)\n",
    "The actual implementation of boosting technique using decision tress. The intuitive recipie is presented below:\n",
    "\n",
    "**Algorithm**:\n",
    "\n",
    "Assume that the number of training samples is denoted by $N$, and the number of iterations (created trees) is $M$. Notice that possible class outputs are $Y=\\{-1,1\\}$\n",
    "\n",
    "1. Initialize the observation weights $w_i=\\frac{1}{N}$ where $i = 1,2, \\dots, N$\n",
    "2. For $m=1$ to $M$:\n",
    "    - fit a classifier $G_m(x)$ to the training data using weights $w_i$,\n",
    "    - compute $err_m = \\frac{\\sum_{i=1}^{N} w_i I (y_i \\neq G_m(x))}{\\sum_{i=1}^{N}w_i}$,\n",
    "    - compute $\\alpha_m = \\log ((1-err_m)/err_m)$,\n",
    "    - set $w_i \\leftarrow w_i \\cdot \\exp [\\alpha_m \\cdot I (y_i \\neq G_m(x)]$, where $i = 1,2, \\dots, N$\n",
    "3. Output $G_m(x) = sign [\\sum_{m=1}^{M} \\alpha_m G_m(x)]$"
   ]
  },
  {
   "cell_type": "code",
   "execution_count": 204,
   "metadata": {
    "collapsed": false
   },
   "outputs": [],
   "source": [
    "import numpy as np\n",
    "\n",
    "from sklearn.datasets import make_classification\n",
    "from sklearn.cross_validation import train_test_split\n",
    "from sklearn.metrics import log_loss\n",
    "\n",
    "# classifiers\n",
    "from sklearn.tree import DecisionTreeClassifier\n",
    "from sklearn.ensemble import AdaBoostClassifier\n",
    "from sklearn.ensemble import GradientBoostingClassifier\n",
    "from xgboost.sklearn import XGBClassifier\n",
    "\n",
    "# reproducibility\n",
    "seed = 104\n",
    "np.random.seed(seed)"
   ]
  },
  {
   "cell_type": "markdown",
   "metadata": {},
   "source": [
    "Let's consider binary classification case. Generate 20 dimensional dataset with 1000 samples, where 8 features holding information, 3 are redundant and 2 repeated."
   ]
  },
  {
   "cell_type": "code",
   "execution_count": 48,
   "metadata": {
    "collapsed": false
   },
   "outputs": [],
   "source": [
    "X, y = make_classification(n_samples=1000, n_features=20, n_informative=8, n_redundant=3, n_repeated=2, random_state=seed)"
   ]
  },
  {
   "cell_type": "markdown",
   "metadata": {},
   "source": [
    "Split the dataset into train/test parts"
   ]
  },
  {
   "cell_type": "code",
   "execution_count": 49,
   "metadata": {
    "collapsed": false
   },
   "outputs": [],
   "source": [
    "X_train, X_test, y_train, y_test = train_test_split(X, y, test_size=0.2, random_state=seed)"
   ]
  },
  {
   "cell_type": "markdown",
   "metadata": {},
   "source": [
    "## A. comparison\n",
    "With default parameters"
   ]
  },
  {
   "cell_type": "markdown",
   "metadata": {},
   "source": [
    "### Decision Tree"
   ]
  },
  {
   "cell_type": "code",
   "execution_count": 203,
   "metadata": {
    "collapsed": false,
    "scrolled": false
   },
   "outputs": [
    {
     "name": "stdout",
     "output_type": "stream",
     "text": [
      "== Decision Tree ==\n",
      "Log loss: 7.60\n",
      "Number of nodes created: 167\n"
     ]
    }
   ],
   "source": [
    "decision_tree = DecisionTreeClassifier(random_state=seed)\n",
    "decision_tree.fit(X_train, y_train)\n",
    "\n",
    "# make predictions\n",
    "decision_tree_y_pred  = decision_tree.predict_proba(X_test)\n",
    "\n",
    "# calculate log loss\n",
    "decision_tree_logloss = log_loss(y_test, decision_tree_y_pred)\n",
    "\n",
    "print(\"== Decision Tree ==\")\n",
    "print(\"Log loss: {0:.2f}\".format(decision_tree_logloss))\n",
    "print(\"Number of nodes created: {}\".format(decision_tree.tree_.node_count))"
   ]
  },
  {
   "cell_type": "markdown",
   "metadata": {},
   "source": [
    "### AdaBoost"
   ]
  },
  {
   "cell_type": "code",
   "execution_count": 184,
   "metadata": {
    "collapsed": false,
    "scrolled": false
   },
   "outputs": [
    {
     "name": "stdout",
     "output_type": "stream",
     "text": [
      "== AdaBoost ==\n",
      "Log loss: 0.69\n"
     ]
    }
   ],
   "source": [
    "adaboost = AdaBoostClassifier(\n",
    "    base_estimator=DecisionTreeClassifier(max_depth=1),\n",
    "    n_estimators=1000,\n",
    "    random_state=seed)\n",
    "adaboost.fit(X_train, y_train)\n",
    "\n",
    "# make predictions\n",
    "adaboost_y_pred = adaboost.predict_proba(X_test)\n",
    "\n",
    "# calculate log loss\n",
    "adaboost_logloss = log_loss(y_test, adaboost_y_pred)\n",
    "\n",
    "print(\"== AdaBoost ==\")\n",
    "print(\"Log loss: {0:.2f}\".format(adaboost_logloss))"
   ]
  },
  {
   "cell_type": "markdown",
   "metadata": {},
   "source": [
    "### Gradient Boosted Trees"
   ]
  },
  {
   "cell_type": "code",
   "execution_count": 206,
   "metadata": {
    "collapsed": false,
    "scrolled": false
   },
   "outputs": [
    {
     "name": "stdout",
     "output_type": "stream",
     "text": [
      "== Gradient Boosting ==\n",
      "Log loss: 0.48\n"
     ]
    }
   ],
   "source": [
    "gbc = GradientBoostingClassifier(\n",
    "    max_depth=1,\n",
    "    n_estimators=1000,\n",
    "    warm_start=True,\n",
    "    random_state=seed)\n",
    "gbc.fit(X_train, y_train)\n",
    "\n",
    "# make predictions\n",
    "gbc_y_pred = gbc.predict_proba(X_test)\n",
    "\n",
    "# calculate log loss\n",
    "gbc_logloss = log_loss(y_test, gbc_y_pred)\n",
    "\n",
    "print(\"== Gradient Boosting ==\")\n",
    "print(\"Log loss: {0:.2f}\".format(gbc_logloss))"
   ]
  },
  {
   "cell_type": "markdown",
   "metadata": {},
   "source": [
    "### XGBoost"
   ]
  },
  {
   "cell_type": "code",
   "execution_count": 210,
   "metadata": {
    "collapsed": false,
    "scrolled": true
   },
   "outputs": [
    {
     "name": "stdout",
     "output_type": "stream",
     "text": [
      "== XGBoost ==\n",
      "Log loss: 0.47\n"
     ]
    }
   ],
   "source": [
    "xgb = XGBClassifier(\n",
    "    n_estimators=1000,\n",
    "    max_depth=1,\n",
    "    seed=seed\n",
    ")\n",
    "xgb.fit(X_train, y_train)\n",
    "\n",
    "# make predictions\n",
    "xgb_y_pred = xgb.predict_proba(X_test)\n",
    "\n",
    "# calculate log loss\n",
    "xgb_logloss = log_loss(y_test, xgb_y_pred)\n",
    "\n",
    "print(\"== XGBoost ==\")\n",
    "print(\"Log loss: {0:.2f}\".format(xgb_logloss))"
   ]
  }
 ],
 "metadata": {
  "kernelspec": {
   "display_name": "Python 3",
   "language": "python",
   "name": "python3"
  },
  "language_info": {
   "codemirror_mode": {
    "name": "ipython",
    "version": 3
   },
   "file_extension": ".py",
   "mimetype": "text/x-python",
   "name": "python",
   "nbconvert_exporter": "python",
   "pygments_lexer": "ipython3",
   "version": "3.5.1"
  }
 },
 "nbformat": 4,
 "nbformat_minor": 0
}
