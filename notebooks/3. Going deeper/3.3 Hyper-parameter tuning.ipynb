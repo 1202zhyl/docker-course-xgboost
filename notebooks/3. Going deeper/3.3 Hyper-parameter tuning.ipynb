{
 "cells": [
  {
   "cell_type": "markdown",
   "metadata": {},
   "source": [
    "# Parrot Prediction Courses"
   ]
  },
  {
   "cell_type": "markdown",
   "metadata": {},
   "source": [
    "## Hyper-parameter tuning\n",
    "\n",
    "As you know there are plenty of tunable parameters. Each one results in different output. The question is which combination results in best output.\n",
    "\n",
    "The following notebook will show you how to configure Scikit-learn modules for figuring out the best parameters for your  models.\n",
    "\n",
    "**What you will learn:**\n",
    "- finding best hyper-parameters using grid-search,\n",
    "- finding best hyper-parameters using randomized grid-search"
   ]
  },
  {
   "cell_type": "markdown",
   "metadata": {},
   "source": [
    "### Prepare data\n",
    "Let's begin with loading all required libraries in one place and set seed number for reproducibility."
   ]
  },
  {
   "cell_type": "code",
   "execution_count": 17,
   "metadata": {
    "collapsed": true
   },
   "outputs": [],
   "source": [
    "import numpy as np\n",
    "\n",
    "from xgboost.sklearn import XGBClassifier\n",
    "\n",
    "from sklearn.grid_search import GridSearchCV, RandomizedSearchCV\n",
    "from sklearn.datasets import make_classification\n",
    "from sklearn.cross_validation import StratifiedKFold\n",
    "\n",
    "from scipy.stats import randint, uniform\n",
    "\n",
    "# reproducibility\n",
    "seed = 123\n",
    "np.random.seed(seed)"
   ]
  },
  {
   "cell_type": "markdown",
   "metadata": {},
   "source": [
    "Generate artificial dataset"
   ]
  },
  {
   "cell_type": "code",
   "execution_count": 2,
   "metadata": {
    "collapsed": false
   },
   "outputs": [],
   "source": [
    "X, y = make_classification(n_samples=1000, n_features=20, n_informative=8, n_redundant=3, n_repeated=2, random_state=seed)"
   ]
  },
  {
   "cell_type": "markdown",
   "metadata": {},
   "source": [
    "Define cross-validation strategy for testing. Let's use `StratifiedKFold` which guarantees that target label is equally distributed across each fold."
   ]
  },
  {
   "cell_type": "code",
   "execution_count": 3,
   "metadata": {
    "collapsed": true
   },
   "outputs": [],
   "source": [
    "cv = StratifiedKFold(y, n_folds=10, shuffle=True, random_state=seed)"
   ]
  },
  {
   "cell_type": "markdown",
   "metadata": {},
   "source": [
    "### Grid-Search\n",
    "In grid-search we start by defining a dictionary holding possible parameter values we want to test. All possible combinations will be evaluted."
   ]
  },
  {
   "cell_type": "code",
   "execution_count": 4,
   "metadata": {
    "collapsed": false
   },
   "outputs": [],
   "source": [
    "params_grid = {\n",
    "    'max_depth': [1, 2, 3],\n",
    "    'n_estimators': [5, 10, 25, 50],\n",
    "    'learning_rate': np.linspace(1e-16, 1, 3)\n",
    "}"
   ]
  },
  {
   "cell_type": "markdown",
   "metadata": {},
   "source": [
    "Add a dictiorany for fixed parameters."
   ]
  },
  {
   "cell_type": "code",
   "execution_count": 5,
   "metadata": {
    "collapsed": true
   },
   "outputs": [],
   "source": [
    "params_fixed = {\n",
    "    'objective': 'binary:logistic',\n",
    "    'silent': 1\n",
    "}"
   ]
  },
  {
   "cell_type": "markdown",
   "metadata": {},
   "source": [
    "Create a `GridSearchCV` estimator. We will be looking for combination giving the best accuracy."
   ]
  },
  {
   "cell_type": "code",
   "execution_count": 6,
   "metadata": {
    "collapsed": false
   },
   "outputs": [],
   "source": [
    "bst_grid = GridSearchCV(\n",
    "    estimator=XGBClassifier(**params_fixed, seed=seed),\n",
    "    param_grid=params_grid,\n",
    "    cv=cv,\n",
    "    scoring='accuracy'\n",
    ")"
   ]
  },
  {
   "cell_type": "markdown",
   "metadata": {},
   "source": [
    "Before running the calcuations notice that $3*4*3*10=360$ models will be created for testing all combinations. You should always have rough estimations about what is going to happen."
   ]
  },
  {
   "cell_type": "code",
   "execution_count": 7,
   "metadata": {
    "collapsed": false
   },
   "outputs": [
    {
     "data": {
      "text/plain": [
       "GridSearchCV(cv=sklearn.cross_validation.StratifiedKFold(labels=[1 0 ..., 0 1], n_folds=10, shuffle=True, random_state=123),\n",
       "       error_score='raise',\n",
       "       estimator=XGBClassifier(base_score=0.5, colsample_bylevel=1, colsample_bytree=1,\n",
       "       gamma=0, learning_rate=0.1, max_delta_step=0, max_depth=3,\n",
       "       min_child_weight=1, missing=None, n_estimators=100, nthread=-1,\n",
       "       objective='binary:logistic', reg_alpha=0, reg_lambda=1,\n",
       "       scale_pos_weight=1, seed=123, silent=1, subsample=1),\n",
       "       fit_params={}, iid=True, n_jobs=1,\n",
       "       param_grid={'learning_rate': array([  1.00000e-16,   5.00000e-01,   1.00000e+00]), 'n_estimators': [5, 10, 25, 50], 'max_depth': [1, 2, 3]},\n",
       "       pre_dispatch='2*n_jobs', refit=True, scoring='accuracy', verbose=0)"
      ]
     },
     "execution_count": 7,
     "metadata": {},
     "output_type": "execute_result"
    }
   ],
   "source": [
    "bst_grid.fit(X, y)"
   ]
  },
  {
   "cell_type": "markdown",
   "metadata": {},
   "source": [
    "Now, we can look at all obtained scores, and try to manually see what matters and what not. A quick glance looks that the largeer `n_estimators` then the accuracy is higher."
   ]
  },
  {
   "cell_type": "code",
   "execution_count": 8,
   "metadata": {
    "collapsed": false
   },
   "outputs": [
    {
     "data": {
      "text/plain": [
       "[mean: 0.50000, std: 0.00000, params: {'n_estimators': 5, 'learning_rate': 9.9999999999999998e-17, 'max_depth': 1},\n",
       " mean: 0.50000, std: 0.00000, params: {'n_estimators': 10, 'learning_rate': 9.9999999999999998e-17, 'max_depth': 1},\n",
       " mean: 0.50000, std: 0.00000, params: {'n_estimators': 25, 'learning_rate': 9.9999999999999998e-17, 'max_depth': 1},\n",
       " mean: 0.50000, std: 0.00000, params: {'n_estimators': 50, 'learning_rate': 9.9999999999999998e-17, 'max_depth': 1},\n",
       " mean: 0.50000, std: 0.00000, params: {'n_estimators': 5, 'learning_rate': 9.9999999999999998e-17, 'max_depth': 2},\n",
       " mean: 0.50000, std: 0.00000, params: {'n_estimators': 10, 'learning_rate': 9.9999999999999998e-17, 'max_depth': 2},\n",
       " mean: 0.50000, std: 0.00000, params: {'n_estimators': 25, 'learning_rate': 9.9999999999999998e-17, 'max_depth': 2},\n",
       " mean: 0.50000, std: 0.00000, params: {'n_estimators': 50, 'learning_rate': 9.9999999999999998e-17, 'max_depth': 2},\n",
       " mean: 0.50000, std: 0.00000, params: {'n_estimators': 5, 'learning_rate': 9.9999999999999998e-17, 'max_depth': 3},\n",
       " mean: 0.50000, std: 0.00000, params: {'n_estimators': 10, 'learning_rate': 9.9999999999999998e-17, 'max_depth': 3},\n",
       " mean: 0.50000, std: 0.00000, params: {'n_estimators': 25, 'learning_rate': 9.9999999999999998e-17, 'max_depth': 3},\n",
       " mean: 0.50000, std: 0.00000, params: {'n_estimators': 50, 'learning_rate': 9.9999999999999998e-17, 'max_depth': 3},\n",
       " mean: 0.81500, std: 0.03294, params: {'n_estimators': 5, 'learning_rate': 0.5, 'max_depth': 1},\n",
       " mean: 0.85700, std: 0.03900, params: {'n_estimators': 10, 'learning_rate': 0.5, 'max_depth': 1},\n",
       " mean: 0.88900, std: 0.02948, params: {'n_estimators': 25, 'learning_rate': 0.5, 'max_depth': 1},\n",
       " mean: 0.89400, std: 0.03169, params: {'n_estimators': 50, 'learning_rate': 0.5, 'max_depth': 1},\n",
       " mean: 0.88000, std: 0.02530, params: {'n_estimators': 5, 'learning_rate': 0.5, 'max_depth': 2},\n",
       " mean: 0.90600, std: 0.01855, params: {'n_estimators': 10, 'learning_rate': 0.5, 'max_depth': 2},\n",
       " mean: 0.91600, std: 0.02245, params: {'n_estimators': 25, 'learning_rate': 0.5, 'max_depth': 2},\n",
       " mean: 0.92400, std: 0.02107, params: {'n_estimators': 50, 'learning_rate': 0.5, 'max_depth': 2},\n",
       " mean: 0.90000, std: 0.02530, params: {'n_estimators': 5, 'learning_rate': 0.5, 'max_depth': 3},\n",
       " mean: 0.91300, std: 0.02492, params: {'n_estimators': 10, 'learning_rate': 0.5, 'max_depth': 3},\n",
       " mean: 0.92500, std: 0.01857, params: {'n_estimators': 25, 'learning_rate': 0.5, 'max_depth': 3},\n",
       " mean: 0.93100, std: 0.01513, params: {'n_estimators': 50, 'learning_rate': 0.5, 'max_depth': 3},\n",
       " mean: 0.83000, std: 0.02646, params: {'n_estimators': 5, 'learning_rate': 1.0, 'max_depth': 1},\n",
       " mean: 0.86400, std: 0.02800, params: {'n_estimators': 10, 'learning_rate': 1.0, 'max_depth': 1},\n",
       " mean: 0.87700, std: 0.02492, params: {'n_estimators': 25, 'learning_rate': 1.0, 'max_depth': 1},\n",
       " mean: 0.88100, std: 0.02625, params: {'n_estimators': 50, 'learning_rate': 1.0, 'max_depth': 1},\n",
       " mean: 0.87500, std: 0.02802, params: {'n_estimators': 5, 'learning_rate': 1.0, 'max_depth': 2},\n",
       " mean: 0.89000, std: 0.02236, params: {'n_estimators': 10, 'learning_rate': 1.0, 'max_depth': 2},\n",
       " mean: 0.90600, std: 0.03382, params: {'n_estimators': 25, 'learning_rate': 1.0, 'max_depth': 2},\n",
       " mean: 0.90600, std: 0.02245, params: {'n_estimators': 50, 'learning_rate': 1.0, 'max_depth': 2},\n",
       " mean: 0.89800, std: 0.02821, params: {'n_estimators': 5, 'learning_rate': 1.0, 'max_depth': 3},\n",
       " mean: 0.90200, std: 0.03187, params: {'n_estimators': 10, 'learning_rate': 1.0, 'max_depth': 3},\n",
       " mean: 0.91800, std: 0.02358, params: {'n_estimators': 25, 'learning_rate': 1.0, 'max_depth': 3},\n",
       " mean: 0.92400, std: 0.02154, params: {'n_estimators': 50, 'learning_rate': 1.0, 'max_depth': 3}]"
      ]
     },
     "execution_count": 8,
     "metadata": {},
     "output_type": "execute_result"
    }
   ],
   "source": [
    "bst_grid.grid_scores_"
   ]
  },
  {
   "cell_type": "markdown",
   "metadata": {},
   "source": [
    "If there are many results, we can sort or filter them manually or get best combination"
   ]
  },
  {
   "cell_type": "code",
   "execution_count": 9,
   "metadata": {
    "collapsed": false
   },
   "outputs": [
    {
     "name": "stdout",
     "output_type": "stream",
     "text": [
      "Best accuracy obtained: 0.931\n",
      "Parameters:\n",
      "\tn_estimators: 50\n",
      "\tlearning_rate: 0.5\n",
      "\tmax_depth: 3\n"
     ]
    }
   ],
   "source": [
    "print(\"Best accuracy obtained: {0}\".format(bst_grid.best_score_))\n",
    "print(\"Parameters:\")\n",
    "for key, value in bst_grid.best_params_.items():\n",
    "    print(\"\\t{}: {}\".format(key, value))"
   ]
  },
  {
   "cell_type": "markdown",
   "metadata": {},
   "source": [
    "Looking for best parameters is an iterative process. You should start with coarsed-granularity and move to to more detailed values."
   ]
  },
  {
   "cell_type": "markdown",
   "metadata": {},
   "source": [
    "### Randomized Grid-Search\n",
    "When the number of parameters and their values is getting big the traditional grid-search approach quickly becomes ineffective. A possible solution might be to randomly pick certain parameters, knowing their distribution. While it's not an exhaustive solution, it's worth giving a shot.\n",
    "\n",
    "http://scikit-learn.org/stable/auto_examples/model_selection/randomized_search.html#example-model-selection-randomized-search-py\n",
    "\n",
    "Create a parametres distribution dictionary:"
   ]
  },
  {
   "cell_type": "code",
   "execution_count": 56,
   "metadata": {
    "collapsed": false
   },
   "outputs": [],
   "source": [
    "params_dist_grid = {\n",
    "    'max_depth': [1, 2, 3, 4],\n",
    "    'gamma': [0, 0.5, 1],\n",
    "    'n_estimators': randint(1, 1001), # uniform discrete random distribution\n",
    "    'learning_rate': uniform(), # gaussian distribution\n",
    "    'subsample': uniform(), # gaussian distribution\n",
    "    'colsample_bytree': uniform() # gaussian distribution\n",
    "}"
   ]
  },
  {
   "cell_type": "code",
   "execution_count": 57,
   "metadata": {
    "collapsed": false
   },
   "outputs": [],
   "source": [
    "rs_grid = RandomizedSearchCV(\n",
    "    estimator=XGBClassifier(**params_fixed, seed=seed),\n",
    "    param_distributions=params_dist_grid,\n",
    "    n_iter=10,\n",
    "    cv=cv,\n",
    "    random_state=seed\n",
    ")"
   ]
  },
  {
   "cell_type": "code",
   "execution_count": 58,
   "metadata": {
    "collapsed": false
   },
   "outputs": [
    {
     "data": {
      "text/plain": [
       "RandomizedSearchCV(cv=sklearn.cross_validation.StratifiedKFold(labels=[1 0 ..., 0 1], n_folds=10, shuffle=True, random_state=123),\n",
       "          error_score='raise',\n",
       "          estimator=XGBClassifier(base_score=0.5, colsample_bylevel=1, colsample_bytree=1,\n",
       "       gamma=0, learning_rate=0.1, max_delta_step=0, max_depth=3,\n",
       "       min_child_weight=1, missing=None, n_estimators=100, nthread=-1,\n",
       "       objective='binary:logistic', reg_alpha=0, reg_lambda=1,\n",
       "       scale_pos_weight=1, seed=123, silent=1, subsample=1),\n",
       "          fit_params={}, iid=True, n_iter=10, n_jobs=1,\n",
       "          param_distributions={'learning_rate': <scipy.stats._distn_infrastructure.rv_frozen object at 0x7f3e42db9ef0>, 'max_depth': [1, 2, 3, 4], 'colsample_bytree': <scipy.stats._distn_infrastructure.rv_frozen object at 0x7f3e42d6b6a0>, 'n_estimators': <scipy.stats._distn_infrastructure.rv_frozen object at 0x7f3e42db9ba8>, 'gamma': [0, 0.5, 1], 'subsample': <scipy.stats._distn_infrastructure.rv_frozen object at 0x7f3e42d6b438>},\n",
       "          pre_dispatch='2*n_jobs', random_state=123, refit=True,\n",
       "          scoring=None, verbose=0)"
      ]
     },
     "execution_count": 58,
     "metadata": {},
     "output_type": "execute_result"
    }
   ],
   "source": [
    "rs_grid.fit(X, y)"
   ]
  },
  {
   "cell_type": "code",
   "execution_count": 59,
   "metadata": {
    "collapsed": false
   },
   "outputs": [
    {
     "data": {
      "text/plain": [
       "[mean: 0.88100, std: 0.03113, params: {'learning_rate': 0.5567851923942887, 'n_estimators': 87, 'max_depth': 2, 'colsample_bytree': 0.5944318794450425, 'gamma': 1, 'subsample': 0.28079319859348617},\n",
       " mean: 0.92500, std: 0.01628, params: {'learning_rate': 0.10854229568516027, 'n_estimators': 434, 'max_depth': 3, 'colsample_bytree': 0.7638366944754833, 'gamma': 1, 'subsample': 0.6919702955318197},\n",
       " mean: 0.92200, std: 0.02227, params: {'learning_rate': 0.3889505741231446, 'n_estimators': 927, 'max_depth': 3, 'colsample_bytree': 0.5543832497177721, 'gamma': 0, 'subsample': 0.8549728158240765},\n",
       " mean: 0.90300, std: 0.02147, params: {'learning_rate': 0.3929444107680876, 'n_estimators': 767, 'max_depth': 2, 'colsample_bytree': 0.7113918018147167, 'gamma': 1, 'subsample': 0.30476807341109746},\n",
       " mean: 0.50000, std: 0.00000, params: {'learning_rate': 0.7049588304513622, 'n_estimators': 89, 'max_depth': 4, 'colsample_bytree': 0.398185681917981, 'gamma': 1, 'subsample': 0.00413464274939046},\n",
       " mean: 0.93200, std: 0.01990, params: {'learning_rate': 0.0576480149714419, 'n_estimators': 933, 'max_depth': 3, 'colsample_bytree': 0.6380225178789184, 'gamma': 0.5, 'subsample': 0.6917017987001771},\n",
       " mean: 0.87200, std: 0.03027, params: {'learning_rate': 0.39887629272615654, 'n_estimators': 885, 'max_depth': 1, 'colsample_bytree': 0.15112745234808023, 'gamma': 0.5, 'subsample': 0.367865259524107},\n",
       " mean: 0.91700, std: 0.02002, params: {'learning_rate': 0.029423733551983133, 'n_estimators': 207, 'max_depth': 3, 'colsample_bytree': 0.8735022657597672, 'gamma': 0.5, 'subsample': 0.10590848505681383},\n",
       " mean: 0.86500, std: 0.03695, params: {'learning_rate': 0.32198060646830806, 'n_estimators': 971, 'max_depth': 1, 'colsample_bytree': 0.13089495066408074, 'gamma': 0.5, 'subsample': 0.1931703302748965},\n",
       " mean: 0.85600, std: 0.02458, params: {'learning_rate': 0.8179275084618663, 'n_estimators': 136, 'max_depth': 1, 'colsample_bytree': 0.2936925035212735, 'gamma': 1, 'subsample': 0.3848378112757611}]"
      ]
     },
     "execution_count": 59,
     "metadata": {},
     "output_type": "execute_result"
    }
   ],
   "source": [
    "rs_grid.grid_scores_"
   ]
  },
  {
   "cell_type": "code",
   "execution_count": 60,
   "metadata": {
    "collapsed": false
   },
   "outputs": [
    {
     "data": {
      "text/plain": [
       "XGBClassifier(base_score=0.5, colsample_bylevel=1,\n",
       "       colsample_bytree=0.6380225178789184, gamma=0.5,\n",
       "       learning_rate=0.0576480149714419, max_delta_step=0, max_depth=3,\n",
       "       min_child_weight=1, missing=None, n_estimators=933, nthread=-1,\n",
       "       objective='binary:logistic', reg_alpha=0, reg_lambda=1,\n",
       "       scale_pos_weight=1, seed=123, silent=1,\n",
       "       subsample=0.6917017987001771)"
      ]
     },
     "execution_count": 60,
     "metadata": {},
     "output_type": "execute_result"
    }
   ],
   "source": [
    "rs_grid.best_estimator_"
   ]
  },
  {
   "cell_type": "code",
   "execution_count": 61,
   "metadata": {
    "collapsed": false
   },
   "outputs": [
    {
     "data": {
      "text/plain": [
       "{'colsample_bytree': 0.6380225178789184,\n",
       " 'gamma': 0.5,\n",
       " 'learning_rate': 0.0576480149714419,\n",
       " 'max_depth': 3,\n",
       " 'n_estimators': 933,\n",
       " 'subsample': 0.6917017987001771}"
      ]
     },
     "execution_count": 61,
     "metadata": {},
     "output_type": "execute_result"
    }
   ],
   "source": [
    "rs_grid.best_params_"
   ]
  },
  {
   "cell_type": "code",
   "execution_count": 62,
   "metadata": {
    "collapsed": false
   },
   "outputs": [
    {
     "data": {
      "text/plain": [
       "0.93200000000000005"
      ]
     },
     "execution_count": 62,
     "metadata": {},
     "output_type": "execute_result"
    }
   ],
   "source": [
    "rs_grid.best_score_"
   ]
  }
 ],
 "metadata": {
  "kernelspec": {
   "display_name": "Python 3",
   "language": "python",
   "name": "python3"
  },
  "language_info": {
   "codemirror_mode": {
    "name": "ipython",
    "version": 3
   },
   "file_extension": ".py",
   "mimetype": "text/x-python",
   "name": "python",
   "nbconvert_exporter": "python",
   "pygments_lexer": "ipython3",
   "version": "3.5.1"
  }
 },
 "nbformat": 4,
 "nbformat_minor": 0
}
