{
 "cells": [
  {
   "cell_type": "markdown",
   "metadata": {},
   "source": [
    "# Parrot Prediction Courses"
   ]
  },
  {
   "cell_type": "markdown",
   "metadata": {},
   "source": [
    "## Spotting Most Important Features\n",
    "The following notebook presents how to distinguish the relative importance of features in the dataset.\n",
    "Using this knowledge will help you to figure out what is driving the splits most for the trees and where we may be able to make some improvements in feature engineering if possible."
   ]
  },
  {
   "cell_type": "markdown",
   "metadata": {
    "collapsed": true
   },
   "source": [
    "### Prepare model\n",
    "The purpose of this step is to train simple model.\n",
    "Let's begin with loading all libraries in one place."
   ]
  },
  {
   "cell_type": "code",
   "execution_count": 1,
   "metadata": {
    "collapsed": false
   },
   "outputs": [
    {
     "name": "stderr",
     "output_type": "stream",
     "text": [
      "/opt/conda/lib/python3.5/site-packages/matplotlib/font_manager.py:273: UserWarning: Matplotlib is building the font cache using fc-list. This may take a moment.\n",
      "  warnings.warn('Matplotlib is building the font cache using fc-list. This may take a moment.')\n",
      "/opt/conda/lib/python3.5/site-packages/matplotlib/font_manager.py:273: UserWarning: Matplotlib is building the font cache using fc-list. This may take a moment.\n",
      "  warnings.warn('Matplotlib is building the font cache using fc-list. This may take a moment.')\n",
      "/opt/conda/lib/python3.5/site-packages/IPython/html.py:14: ShimWarning: The `IPython.html` package has been deprecated. You should import from `notebook` instead. `IPython.html.widgets` has moved to `ipywidgets`.\n",
      "  \"`IPython.html.widgets` has moved to `ipywidgets`.\", ShimWarning)\n"
     ]
    }
   ],
   "source": [
    "%matplotlib inline\n",
    "\n",
    "import xgboost as xgb\n",
    "import seaborn as sns\n",
    "import pandas as pd\n",
    "\n",
    "sns.set(font_scale = 1.5)"
   ]
  },
  {
   "cell_type": "markdown",
   "metadata": {},
   "source": [
    "Load agaricus dataset from file"
   ]
  },
  {
   "cell_type": "code",
   "execution_count": 2,
   "metadata": {
    "collapsed": false
   },
   "outputs": [],
   "source": [
    "# load Agaricus data\n",
    "dtrain = xgb.DMatrix('../data/agaricus.txt.train')\n",
    "dtest = xgb.DMatrix('../data/agaricus.txt.test')"
   ]
  },
  {
   "cell_type": "markdown",
   "metadata": {},
   "source": [
    "Specify training parameters - we are going to use 5 stump decision trees with average learning rate."
   ]
  },
  {
   "cell_type": "code",
   "execution_count": 24,
   "metadata": {
    "collapsed": true
   },
   "outputs": [],
   "source": [
    "# specify training parameters\n",
    "params = {\n",
    "    'objective':'binary:logistic',\n",
    "    'max_depth':1,\n",
    "    'silent':1,\n",
    "    'eta':0.5\n",
    "}\n",
    "\n",
    "num_rounds = 5"
   ]
  },
  {
   "cell_type": "markdown",
   "metadata": {},
   "source": [
    "Train the model. In the same time specify `watchlist` to observe it's performance on the test set."
   ]
  },
  {
   "cell_type": "code",
   "execution_count": 25,
   "metadata": {
    "collapsed": false,
    "scrolled": false
   },
   "outputs": [
    {
     "name": "stdout",
     "output_type": "stream",
     "text": [
      "[0]\ttest-error:0.11049\ttrain-error:0.113926\n",
      "[1]\ttest-error:0.11049\ttrain-error:0.113926\n",
      "[2]\ttest-error:0.03352\ttrain-error:0.030401\n",
      "[3]\ttest-error:0.027312\ttrain-error:0.021495\n",
      "[4]\ttest-error:0.031037\ttrain-error:0.025487\n"
     ]
    }
   ],
   "source": [
    "# see how does it perform\n",
    "watchlist  = [(dtest,'test'), (dtrain,'train')] # native interface only\n",
    "bst = xgb.train(params, dtrain, num_rounds, watchlist)"
   ]
  },
  {
   "cell_type": "markdown",
   "metadata": {},
   "source": [
    "Before moving on it's good to understand the intuition about how trees are grown.\n",
    "\n",
    "> *While building a tree is divided recursively several times (in this example only once) - this operation is called **split**. To perform a split the algorithm must figure out which is the best (one) feature to use.**\n",
    "\n",
    "> *After that, at the bottom of the we get groups of observations packed in the **leafes**.*\n",
    "\n",
    "> *In the final model, these leafs are supposed to be **as pure as possible** for each tree, meaning in our case that each leaf should be made of one label class.*\n",
    "\n",
    "> *Not all splits are equally important. Basically the first split of a tree will have more impact on the purity that, for instance, the deepest split. Intuitively, we understand that the first split makes most of the work, and the following splits focus on smaller parts of the dataset which have been missclassified by the first tree.*\n",
    "\n",
    "> *In the same way, in Boosting we try to optimize the missclassification at each round (it is called the loss). So the first tree will do the big work and the following trees will focus on the remaining, on the parts not correctly learned by the previous trees.*\n",
    "\n",
    "> *The improvement brought by each split can be measured, it is the gain.*\n",
    "\n",
    "> ~ Quoted from the Kaggle Tianqi Chen's Kaggle [notebook](https://www.kaggle.com/tqchen/otto-group-product-classification-challenge/understanding-xgboost-model-on-otto-data).\n",
    "\n",
    "Let's investigate how trees look like on our case:"
   ]
  },
  {
   "cell_type": "code",
   "execution_count": 26,
   "metadata": {
    "collapsed": false
   },
   "outputs": [
    {
     "name": "stdout",
     "output_type": "stream",
     "text": [
      "0:[odor=pungent] yes=2,no=1,gain=4000.53,cover=1628.25\n",
      "\t1:leaf=0.647758,cover=924.5\n",
      "\t2:leaf=-0.93331,cover=703.75\n",
      "\n",
      "0:[odor=musty] yes=2,no=1,gain=1377.22,cover=1404.2\n",
      "\t1:leaf=-0.339609,cover=1008.21\n",
      "\t2:leaf=0.75969,cover=395.989\n",
      "\n",
      "0:[gill-size=narrow] yes=2,no=1,gain=1210.77,cover=1232.64\n",
      "\t1:leaf=0.673358,cover=430.293\n",
      "\t2:leaf=-0.365203,cover=802.35\n",
      "\n",
      "0:[stalk-surface-above-ring=smooth] yes=2,no=1,gain=791.959,cover=1111.84\n",
      "\t1:leaf=-0.277529,cover=765.906\n",
      "\t2:leaf=0.632881,cover=345.937\n",
      "\n",
      "0:[odor=pungent] yes=2,no=1,gain=493.704,cover=981.683\n",
      "\t1:leaf=0.275961,cover=638.373\n",
      "\t2:leaf=-0.46668,cover=343.31\n",
      "\n"
     ]
    }
   ],
   "source": [
    "trees_dump = bst.get_dump(fmap='../data/featmap.txt', with_stats=True)\n",
    "\n",
    "for tree in trees_dump:\n",
    "    print(tree)"
   ]
  },
  {
   "cell_type": "markdown",
   "metadata": {},
   "source": [
    "For each split we are getting the following details:\n",
    "\n",
    "- which feature was used to make split,\n",
    "- possible choices to make (branches)\n",
    "- **gain** which is the actual improvement in accuracy brough by that feature. The idea is that before adding a new split on a feature X to the branch there was some wrongly classified elements, after adding the split on this feature, there are two new branches, and each of these branch is more accurate (one branch saying if your observation is on this branch then it should be classified as 1, and the other branch saying the exact opposite),\n",
    "- **cover** measuring the relative quantity of observations concerned by that feature\n"
   ]
  },
  {
   "cell_type": "markdown",
   "metadata": {},
   "source": [
    "Hopefully there are better ways to figure out which features really matter. We can use built-in function `plot_importance` that will create a plot presenting most important features due to some criterias. We will analyze the impact of each feature for all splits and all trees and visualize results.\n",
    "\n",
    "See which feature provided the most gain:"
   ]
  },
  {
   "cell_type": "code",
   "execution_count": 34,
   "metadata": {
    "collapsed": false
   },
   "outputs": [
    {
     "data": {
      "text/plain": [
       "<matplotlib.axes._subplots.AxesSubplot at 0x7f5978f005f8>"
      ]
     },
     "execution_count": 34,
     "metadata": {},
     "output_type": "execute_result"
    },
    {
     "data": {
      "image/png": "[encoded data removed]",
      "text/plain": [
       "<matplotlib.figure.Figure at 0x7f5978ed5940>"
      ]
     },
     "metadata": {},
     "output_type": "display_data"
    }
   ],
   "source": [
    "xgb.plot_importance(bst, importance_type='gain', xlabel='Gain')"
   ]
  },
  {
   "cell_type": "markdown",
   "metadata": {},
   "source": [
    "We can simplify it a little bit by introducing a *F-score* metric.\n",
    "\n",
    "> **F-score** - sums up how many times a split was performed on each feature. "
   ]
  },
  {
   "cell_type": "code",
   "execution_count": 35,
   "metadata": {
    "collapsed": false
   },
   "outputs": [
    {
     "data": {
      "text/plain": [
       "<matplotlib.axes._subplots.AxesSubplot at 0x7f5979cec2e8>"
      ]
     },
     "execution_count": 35,
     "metadata": {},
     "output_type": "execute_result"
    },
    {
     "data": {
      "image/png": "[encoded data removed]",
      "text/plain": [
       "<matplotlib.figure.Figure at 0x7f5979cebb70>"
      ]
     },
     "metadata": {},
     "output_type": "display_data"
    }
   ],
   "source": [
    "xgb.plot_importance(bst)"
   ]
  },
  {
   "cell_type": "markdown",
   "metadata": {},
   "source": [
    "In case you want to visualize it another way, a created model enables convinient way of accessing the F-score."
   ]
  },
  {
   "cell_type": "code",
   "execution_count": 36,
   "metadata": {
    "collapsed": false
   },
   "outputs": [
    {
     "data": {
      "text/plain": [
       "{'f27': 1, 'f29': 2, 'f39': 1, 'f64': 1}"
      ]
     },
     "execution_count": 36,
     "metadata": {},
     "output_type": "execute_result"
    }
   ],
   "source": [
    "importances = bst.get_fscore()\n",
    "importances"
   ]
  },
  {
   "cell_type": "markdown",
   "metadata": {},
   "source": [
    "Now you can manipulate data in your own way"
   ]
  },
  {
   "cell_type": "code",
   "execution_count": 40,
   "metadata": {
    "collapsed": false
   },
   "outputs": [
    {
     "data": {
      "text/plain": [
       "<matplotlib.axes._subplots.AxesSubplot at 0x7f5978b0de80>"
      ]
     },
     "execution_count": 40,
     "metadata": {},
     "output_type": "execute_result"
    },
    {
     "data": {
      "image/png": "[encoded data removed]",
      "text/plain": [
       "<matplotlib.figure.Figure at 0x7f5978b14d68>"
      ]
     },
     "metadata": {},
     "output_type": "display_data"
    }
   ],
   "source": [
    "# create df\n",
    "importance_df = pd.DataFrame({\n",
    "        'Splits': list(importances.values()),\n",
    "        'Feature': list(importances.keys())\n",
    "    })\n",
    "importance_df.sort_values(by='Splits', inplace=True)\n",
    "importance_df.plot(kind='barh', x='Feature', figsize=(8,6), color='orange')"
   ]
  }
 ],
 "metadata": {
  "kernelspec": {
   "display_name": "Python 3",
   "language": "python",
   "name": "python3"
  },
  "language_info": {
   "codemirror_mode": {
    "name": "ipython",
    "version": 3
   },
   "file_extension": ".py",
   "mimetype": "text/x-python",
   "name": "python",
   "nbconvert_exporter": "python",
   "pygments_lexer": "ipython3",
   "version": "3.5.1"
  }
 },
 "nbformat": 4,
 "nbformat_minor": 0
}
