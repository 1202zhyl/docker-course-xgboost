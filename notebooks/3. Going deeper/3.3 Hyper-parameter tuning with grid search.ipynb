{
 "cells": [
  {
   "cell_type": "markdown",
   "metadata": {},
   "source": [
    "# Parrot Prediction Courses"
   ]
  },
  {
   "cell_type": "markdown",
   "metadata": {},
   "source": [
    "## Hyper-parameter tuning with grid search\n",
    "The following notebook will show you how to configure Scikit-learn grid search module for figuring out the best parameters for your XGBoost model.\n",
    "\n",
    "**What you will learn:** Finding best hyper-parameters for your dataset"
   ]
  },
  {
   "cell_type": "markdown",
   "metadata": {},
   "source": [
    "Let's begin with loading all required libraries."
   ]
  },
  {
   "cell_type": "code",
   "execution_count": 5,
   "metadata": {
    "collapsed": true
   },
   "outputs": [],
   "source": [
    "import numpy as np\n",
    "\n",
    "from xgboost.sklearn import XGBClassifier\n",
    "\n",
    "from sklearn.grid_search import GridSearchCV\n",
    "from sklearn.datasets import make_classification\n",
    "from sklearn.cross_validation import StratifiedKFold\n",
    "\n",
    "# reproducibility\n",
    "seed = 123\n",
    "np.random.seed(seed)"
   ]
  },
  {
   "cell_type": "markdown",
   "metadata": {},
   "source": [
    "Generate test dataset"
   ]
  },
  {
   "cell_type": "code",
   "execution_count": 4,
   "metadata": {
    "collapsed": false
   },
   "outputs": [],
   "source": [
    "X, y = make_classification(n_samples=1000, n_features=20, n_informative=8, n_redundant=3, n_repeated=2, random_state=seed)"
   ]
  },
  {
   "cell_type": "markdown",
   "metadata": {},
   "source": [
    "Define cross-validation strategy for testing"
   ]
  },
  {
   "cell_type": "code",
   "execution_count": 6,
   "metadata": {
    "collapsed": true
   },
   "outputs": [],
   "source": [
    "cv = StratifiedKFold(y, n_folds=10, shuffle=True, random_state=seed)"
   ]
  },
  {
   "cell_type": "markdown",
   "metadata": {},
   "source": [
    "Define a dictionary holding possible parameter values."
   ]
  },
  {
   "cell_type": "code",
   "execution_count": 41,
   "metadata": {
    "collapsed": false
   },
   "outputs": [],
   "source": [
    "params_grid = {\n",
    "    'max_depth': [1, 2, 3],\n",
    "    'n_estimators': [5, 10, 25, 50],\n",
    "    'learning_rate': [0.1, 0.5, 1.0]\n",
    "}"
   ]
  },
  {
   "cell_type": "markdown",
   "metadata": {},
   "source": [
    "And those for which we want values to be fixed"
   ]
  },
  {
   "cell_type": "code",
   "execution_count": 42,
   "metadata": {
    "collapsed": true
   },
   "outputs": [],
   "source": [
    "params_fixed = {\n",
    "    'objective': 'binary:logistic',\n",
    "    'silent': 1\n",
    "}"
   ]
  },
  {
   "cell_type": "code",
   "execution_count": 43,
   "metadata": {
    "collapsed": false
   },
   "outputs": [],
   "source": [
    "bst_grid = GridSearchCV(\n",
    "    estimator=XGBClassifier(**params_fixed, seed=seed),\n",
    "    param_grid=params_grid,\n",
    "    cv=cv,\n",
    "    scoring='accuracy'\n",
    ")"
   ]
  },
  {
   "cell_type": "markdown",
   "metadata": {},
   "source": [
    "Before running the calcuations notice that $3*4*3*10=360$ models will be created for testing all combinations."
   ]
  },
  {
   "cell_type": "code",
   "execution_count": 44,
   "metadata": {
    "collapsed": false
   },
   "outputs": [
    {
     "data": {
      "text/plain": [
       "GridSearchCV(cv=sklearn.cross_validation.StratifiedKFold(labels=[1 0 ..., 0 1], n_folds=10, shuffle=True, random_state=123),\n",
       "       error_score='raise',\n",
       "       estimator=XGBClassifier(base_score=0.5, colsample_bylevel=1, colsample_bytree=1,\n",
       "       gamma=0, learning_rate=0.1, max_delta_step=0, max_depth=3,\n",
       "       min_child_weight=1, missing=None, n_estimators=100, nthread=-1,\n",
       "       objective='binary:logistic', reg_alpha=0, reg_lambda=1,\n",
       "       scale_pos_weight=1, seed=123, silent=1, subsample=1),\n",
       "       fit_params={}, iid=True, n_jobs=1,\n",
       "       param_grid={'learning_rate': [0.1, 0.5, 1.0], 'n_estimators': [5, 10, 25, 50], 'max_depth': [1, 2, 3]},\n",
       "       pre_dispatch='2*n_jobs', refit=True, scoring='accuracy', verbose=0)"
      ]
     },
     "execution_count": 44,
     "metadata": {},
     "output_type": "execute_result"
    }
   ],
   "source": [
    "bst_grid.fit(X, y)"
   ]
  },
  {
   "cell_type": "markdown",
   "metadata": {},
   "source": [
    "Show all obtained scores"
   ]
  },
  {
   "cell_type": "code",
   "execution_count": 45,
   "metadata": {
    "collapsed": false
   },
   "outputs": [
    {
     "data": {
      "text/plain": [
       "[mean: 0.74800, std: 0.03682, params: {'learning_rate': 0.1, 'n_estimators': 5, 'max_depth': 1},\n",
       " mean: 0.78200, std: 0.02960, params: {'learning_rate': 0.1, 'n_estimators': 10, 'max_depth': 1},\n",
       " mean: 0.83300, std: 0.03494, params: {'learning_rate': 0.1, 'n_estimators': 25, 'max_depth': 1},\n",
       " mean: 0.86900, std: 0.02982, params: {'learning_rate': 0.1, 'n_estimators': 50, 'max_depth': 1},\n",
       " mean: 0.80600, std: 0.02691, params: {'learning_rate': 0.1, 'n_estimators': 5, 'max_depth': 2},\n",
       " mean: 0.84300, std: 0.02052, params: {'learning_rate': 0.1, 'n_estimators': 10, 'max_depth': 2},\n",
       " mean: 0.88900, std: 0.02587, params: {'learning_rate': 0.1, 'n_estimators': 25, 'max_depth': 2},\n",
       " mean: 0.91000, std: 0.03098, params: {'learning_rate': 0.1, 'n_estimators': 50, 'max_depth': 2},\n",
       " mean: 0.86000, std: 0.02793, params: {'learning_rate': 0.1, 'n_estimators': 5, 'max_depth': 3},\n",
       " mean: 0.88000, std: 0.01265, params: {'learning_rate': 0.1, 'n_estimators': 10, 'max_depth': 3},\n",
       " mean: 0.90500, std: 0.02247, params: {'learning_rate': 0.1, 'n_estimators': 25, 'max_depth': 3},\n",
       " mean: 0.92300, std: 0.01900, params: {'learning_rate': 0.1, 'n_estimators': 50, 'max_depth': 3},\n",
       " mean: 0.81500, std: 0.03294, params: {'learning_rate': 0.5, 'n_estimators': 5, 'max_depth': 1},\n",
       " mean: 0.85700, std: 0.03900, params: {'learning_rate': 0.5, 'n_estimators': 10, 'max_depth': 1},\n",
       " mean: 0.88900, std: 0.02948, params: {'learning_rate': 0.5, 'n_estimators': 25, 'max_depth': 1},\n",
       " mean: 0.89400, std: 0.03169, params: {'learning_rate': 0.5, 'n_estimators': 50, 'max_depth': 1},\n",
       " mean: 0.88000, std: 0.02530, params: {'learning_rate': 0.5, 'n_estimators': 5, 'max_depth': 2},\n",
       " mean: 0.90600, std: 0.01855, params: {'learning_rate': 0.5, 'n_estimators': 10, 'max_depth': 2},\n",
       " mean: 0.91600, std: 0.02245, params: {'learning_rate': 0.5, 'n_estimators': 25, 'max_depth': 2},\n",
       " mean: 0.92400, std: 0.02107, params: {'learning_rate': 0.5, 'n_estimators': 50, 'max_depth': 2},\n",
       " mean: 0.90000, std: 0.02530, params: {'learning_rate': 0.5, 'n_estimators': 5, 'max_depth': 3},\n",
       " mean: 0.91300, std: 0.02492, params: {'learning_rate': 0.5, 'n_estimators': 10, 'max_depth': 3},\n",
       " mean: 0.92500, std: 0.01857, params: {'learning_rate': 0.5, 'n_estimators': 25, 'max_depth': 3},\n",
       " mean: 0.93100, std: 0.01513, params: {'learning_rate': 0.5, 'n_estimators': 50, 'max_depth': 3},\n",
       " mean: 0.83000, std: 0.02646, params: {'learning_rate': 1.0, 'n_estimators': 5, 'max_depth': 1},\n",
       " mean: 0.86400, std: 0.02800, params: {'learning_rate': 1.0, 'n_estimators': 10, 'max_depth': 1},\n",
       " mean: 0.87700, std: 0.02492, params: {'learning_rate': 1.0, 'n_estimators': 25, 'max_depth': 1},\n",
       " mean: 0.88100, std: 0.02625, params: {'learning_rate': 1.0, 'n_estimators': 50, 'max_depth': 1},\n",
       " mean: 0.87500, std: 0.02802, params: {'learning_rate': 1.0, 'n_estimators': 5, 'max_depth': 2},\n",
       " mean: 0.89000, std: 0.02236, params: {'learning_rate': 1.0, 'n_estimators': 10, 'max_depth': 2},\n",
       " mean: 0.90600, std: 0.03382, params: {'learning_rate': 1.0, 'n_estimators': 25, 'max_depth': 2},\n",
       " mean: 0.90600, std: 0.02245, params: {'learning_rate': 1.0, 'n_estimators': 50, 'max_depth': 2},\n",
       " mean: 0.89800, std: 0.02821, params: {'learning_rate': 1.0, 'n_estimators': 5, 'max_depth': 3},\n",
       " mean: 0.90200, std: 0.03187, params: {'learning_rate': 1.0, 'n_estimators': 10, 'max_depth': 3},\n",
       " mean: 0.91800, std: 0.02358, params: {'learning_rate': 1.0, 'n_estimators': 25, 'max_depth': 3},\n",
       " mean: 0.92400, std: 0.02154, params: {'learning_rate': 1.0, 'n_estimators': 50, 'max_depth': 3}]"
      ]
     },
     "execution_count": 45,
     "metadata": {},
     "output_type": "execute_result"
    }
   ],
   "source": [
    "bst_grid.grid_scores_"
   ]
  },
  {
   "cell_type": "markdown",
   "metadata": {},
   "source": [
    "Show best combinations"
   ]
  },
  {
   "cell_type": "code",
   "execution_count": 46,
   "metadata": {
    "collapsed": false
   },
   "outputs": [
    {
     "name": "stdout",
     "output_type": "stream",
     "text": [
      "Best accuracy obtained: 0.931\n",
      "Parameters:\n",
      "\tlearning_rate: 0.5\n",
      "\tn_estimators: 50\n",
      "\tmax_depth: 3\n"
     ]
    }
   ],
   "source": [
    "print(\"Best accuracy obtained: {0}\".format(bst_grid.best_score_))\n",
    "print(\"Parameters:\")\n",
    "for key, value in bst_grid.best_params_.items():\n",
    "    print(\"\\t{}: {}\".format(key, value))"
   ]
  }
 ],
 "metadata": {
  "kernelspec": {
   "display_name": "Python 3",
   "language": "python",
   "name": "python3"
  },
  "language_info": {
   "codemirror_mode": {
    "name": "ipython",
    "version": 3
   },
   "file_extension": ".py",
   "mimetype": "text/x-python",
   "name": "python",
   "nbconvert_exporter": "python",
   "pygments_lexer": "ipython3",
   "version": "3.5.1"
  }
 },
 "nbformat": 4,
 "nbformat_minor": 0
}
