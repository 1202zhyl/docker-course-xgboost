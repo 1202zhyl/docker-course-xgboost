{
 "cells": [
  {
   "cell_type": "markdown",
   "metadata": {},
   "source": [
    "# Parrot Prediction Courses"
   ]
  },
  {
   "cell_type": "markdown",
   "metadata": {},
   "source": [
    "## Evaluate results\n",
    "In this notebook you will see how measure the quality of the algorithm performance.\n",
    "\n",
    "**You will learn how to:**\n",
    "- use predefined evaluation metrics,\n",
    "- write your own evaluation metrics,\n",
    "- use early stopping feature,\n",
    "- cross validate results"
   ]
  },
  {
   "cell_type": "markdown",
   "metadata": {},
   "source": [
    "### Prepare data\n",
    "Begin with loading all required libraries"
   ]
  },
  {
   "cell_type": "code",
   "execution_count": 20,
   "metadata": {
    "collapsed": true
   },
   "outputs": [],
   "source": [
    "import numpy as np\n",
    "import xgboost as xgb\n",
    "\n",
    "from pprint import pprint\n",
    "\n",
    "# reproducibility\n",
    "seed = 123\n",
    "np.random.seed(seed)"
   ]
  },
  {
   "cell_type": "markdown",
   "metadata": {},
   "source": [
    "Load agaricus dataset from file"
   ]
  },
  {
   "cell_type": "code",
   "execution_count": 2,
   "metadata": {
    "collapsed": true
   },
   "outputs": [],
   "source": [
    "# load Agaricus data\n",
    "dtrain = xgb.DMatrix('../data/agaricus.txt.train')\n",
    "dtest = xgb.DMatrix('../data/agaricus.txt.test')"
   ]
  },
  {
   "cell_type": "markdown",
   "metadata": {},
   "source": [
    "Specify training parameters - we are going to use 5 stump decision trees with average learning rate."
   ]
  },
  {
   "cell_type": "code",
   "execution_count": 3,
   "metadata": {
    "collapsed": true
   },
   "outputs": [],
   "source": [
    "# specify general training parameters\n",
    "params = {\n",
    "    'objective':'binary:logistic',\n",
    "    'max_depth':1,\n",
    "    'silent':1,\n",
    "    'eta':0.5\n",
    "}\n",
    "\n",
    "num_rounds = 5"
   ]
  },
  {
   "cell_type": "markdown",
   "metadata": {},
   "source": [
    "Before training the model let's specify `watchlist` to observe it's performance on the both datasets."
   ]
  },
  {
   "cell_type": "code",
   "execution_count": 4,
   "metadata": {
    "collapsed": true
   },
   "outputs": [],
   "source": [
    "watchlist  = [(dtest,'test'), (dtrain,'train')]"
   ]
  },
  {
   "cell_type": "markdown",
   "metadata": {},
   "source": [
    "### Using predefined evaluation metrics\n",
    "\n",
    "#### What is already available?\n",
    "There are already [some](https://github.com/dmlc/xgboost/blob/master/doc/parameter.md) predefined metrics availabe. You can use them as the input for the `eval_metric` parameter while training the model.\n",
    "\n",
    "- `rmse` - [root mean square error](https://www.wikiwand.com/en/Root-mean-square_deviation),\n",
    "- `mae` - [mean absolute error](https://en.wikipedia.org/wiki/Mean_absolute_error?oldformat=true),\n",
    "- `logloss` - [negative log-likelihood](https://en.wikipedia.org/wiki/Likelihood_function?oldformat=true)\n",
    "- `error` - binary classification error rate. It is calculated as `#(wrong cases)/#(all cases)`. Treat predicted values with probability $p > 0.5$ as positive,\n",
    "- `merror` - multiclass classification error rate. It is calculated as `#(wrong cases)/#(all cases)`,\n",
    "- `auc` - [area under curve](https://en.wikipedia.org/wiki/Receiver_operating_characteristic?oldformat=true),\n",
    "- `ndcg` - [normalized discounted cumulative gain](https://en.wikipedia.org/wiki/Discounted_cumulative_gain?oldformat=true),\n",
    "- `map` - [mean average precision](https://en.wikipedia.org/wiki/Information_retrieval?oldformat=true)\n",
    "\n",
    "By default an `error` metric will be used."
   ]
  },
  {
   "cell_type": "code",
   "execution_count": 5,
   "metadata": {
    "collapsed": false
   },
   "outputs": [
    {
     "name": "stderr",
     "output_type": "stream",
     "text": [
      "[0]\ttest-error:0.110490\ttrain-error:0.113926\n",
      "[1]\ttest-error:0.110490\ttrain-error:0.113926\n",
      "[2]\ttest-error:0.033520\ttrain-error:0.030401\n",
      "[3]\ttest-error:0.027312\ttrain-error:0.021495\n",
      "[4]\ttest-error:0.031037\ttrain-error:0.025487\n"
     ]
    }
   ],
   "source": [
    "bst = xgb.train(params, dtrain, num_rounds, watchlist)"
   ]
  },
  {
   "cell_type": "markdown",
   "metadata": {},
   "source": [
    "To change is simply specify the `eval_metric` argument to the `params` dictionary."
   ]
  },
  {
   "cell_type": "code",
   "execution_count": 6,
   "metadata": {
    "collapsed": false
   },
   "outputs": [
    {
     "name": "stderr",
     "output_type": "stream",
     "text": [
      "[0]\ttest-logloss:0.457886\ttrain-logloss:0.460115\n",
      "[1]\ttest-logloss:0.383911\ttrain-logloss:0.378731\n",
      "[2]\ttest-logloss:0.312678\ttrain-logloss:0.308064\n",
      "[3]\ttest-logloss:0.269119\ttrain-logloss:0.261390\n",
      "[4]\ttest-logloss:0.239746\ttrain-logloss:0.232175\n"
     ]
    }
   ],
   "source": [
    "params['eval_metric'] = 'logloss'\n",
    "bst = xgb.train(params, dtrain, num_rounds, watchlist)"
   ]
  },
  {
   "cell_type": "markdown",
   "metadata": {},
   "source": [
    "You can also use multiple evaluation metrics at one time"
   ]
  },
  {
   "cell_type": "code",
   "execution_count": 7,
   "metadata": {
    "collapsed": false
   },
   "outputs": [
    {
     "name": "stderr",
     "output_type": "stream",
     "text": [
      "[0]\ttest-logloss:0.457886\ttest-auc:0.892138\ttrain-logloss:0.460115\ttrain-auc:0.888997\n",
      "[1]\ttest-logloss:0.383911\ttest-auc:0.938901\ttrain-logloss:0.378731\ttrain-auc:0.942881\n",
      "[2]\ttest-logloss:0.312678\ttest-auc:0.976157\ttrain-logloss:0.308064\ttrain-auc:0.981415\n",
      "[3]\ttest-logloss:0.269119\ttest-auc:0.979685\ttrain-logloss:0.261390\ttrain-auc:0.985158\n",
      "[4]\ttest-logloss:0.239746\ttest-auc:0.978500\ttrain-logloss:0.232175\ttrain-auc:0.983744\n"
     ]
    }
   ],
   "source": [
    "params['eval_metric'] = ['logloss', 'auc']\n",
    "bst = xgb.train(params, dtrain, num_rounds, watchlist)"
   ]
  },
  {
   "cell_type": "markdown",
   "metadata": {},
   "source": [
    "### Creating custom evaluation metric\n",
    "\n",
    "In order to create our own evaluation metric, the only thing needed to do is to create a method taking two arguments - predicted probabilities, and `DMatrix` holding training data.\n",
    "\n",
    "In this example our classification metric will simply count the number of misclassified examples assuming that classes with $p> 0.5$ are positive. You can change this threshold if you want more certainty.\n",
    "\n",
    "In this case the algorithm is getting better when the number of misclassified examples is getting lower. Remember to also set the argument `maximize=False`."
   ]
  },
  {
   "cell_type": "code",
   "execution_count": 8,
   "metadata": {
    "collapsed": true
   },
   "outputs": [],
   "source": [
    "# custom evaluation metric\n",
    "def misclassified(pred_probs, dtrain):\n",
    "    labels = dtrain.get_label() # obtain true labels\n",
    "    preds = pred_probs > 0.5 # obtain predicted values\n",
    "    return 'misclassified', np.sum(labels != preds)"
   ]
  },
  {
   "cell_type": "code",
   "execution_count": 9,
   "metadata": {
    "collapsed": false
   },
   "outputs": [
    {
     "name": "stderr",
     "output_type": "stream",
     "text": [
      "[0]\ttest-misclassified:178.000000\ttrain-misclassified:742.000000\n",
      "[1]\ttest-misclassified:178.000000\ttrain-misclassified:742.000000\n",
      "[2]\ttest-misclassified:54.000000\ttrain-misclassified:198.000000\n",
      "[3]\ttest-misclassified:44.000000\ttrain-misclassified:140.000000\n",
      "[4]\ttest-misclassified:50.000000\ttrain-misclassified:166.000000\n"
     ]
    }
   ],
   "source": [
    "bst = xgb.train(params, dtrain, num_rounds, watchlist, feval=misclassified, maximize=False)"
   ]
  },
  {
   "cell_type": "markdown",
   "metadata": {},
   "source": [
    "You can see that even though the `params` dictionary is holding `eval_metric` key these values are being ignored and overwritten by `feval`."
   ]
  },
  {
   "cell_type": "markdown",
   "metadata": {},
   "source": [
    "### Playing with evaluation results\n",
    "You can get evaluation scores by declaring a dictionary for holding values and passing it as a parameter for `evals_result` argument"
   ]
  },
  {
   "cell_type": "code",
   "execution_count": 10,
   "metadata": {
    "collapsed": false
   },
   "outputs": [
    {
     "name": "stderr",
     "output_type": "stream",
     "text": [
      "[0]\ttest-misclassified:178.000000\ttrain-misclassified:742.000000\n",
      "[1]\ttest-misclassified:178.000000\ttrain-misclassified:742.000000\n",
      "[2]\ttest-misclassified:54.000000\ttrain-misclassified:198.000000\n",
      "[3]\ttest-misclassified:44.000000\ttrain-misclassified:140.000000\n",
      "[4]\ttest-misclassified:50.000000\ttrain-misclassified:166.000000\n"
     ]
    }
   ],
   "source": [
    "evals_result = {}\n",
    "bst = xgb.train(params, dtrain, num_rounds, watchlist, feval=misclassified, maximize=False, evals_result=evals_result)"
   ]
  },
  {
   "cell_type": "markdown",
   "metadata": {},
   "source": [
    "Now you can reuse these scores (ie. for plotting)"
   ]
  },
  {
   "cell_type": "code",
   "execution_count": 11,
   "metadata": {
    "collapsed": false
   },
   "outputs": [
    {
     "name": "stdout",
     "output_type": "stream",
     "text": [
      "{'test': {'misclassified': ['178.000000',\n",
      "                            '178.000000',\n",
      "                            '54.000000',\n",
      "                            '44.000000',\n",
      "                            '50.000000']},\n",
      " 'train': {'misclassified': ['742.00000',\n",
      "                             '742.00000',\n",
      "                             '198.00000',\n",
      "                             '140.00000',\n",
      "                             '166.00000']}}\n"
     ]
    }
   ],
   "source": [
    "pprint(evals_result)"
   ]
  },
  {
   "cell_type": "markdown",
   "metadata": {},
   "source": [
    "### Early stopping\n",
    "There is a nice optimization trick that you can use when fitting multiple trees. \n",
    "\n",
    "You can train the model until the validation score stops improving. Validation error needs to decrease at least every `early_stopping_rounds` to continue training. This approach results in simpler model, because the best number of trees will be found.\n",
    "\n",
    "In the following example a total number of 1500 trees is to be creeated, but we are telling to stop if the validation score does not improve for last ten iterations."
   ]
  },
  {
   "cell_type": "code",
   "execution_count": 12,
   "metadata": {
    "collapsed": false
   },
   "outputs": [
    {
     "name": "stderr",
     "output_type": "stream",
     "text": [
      "Will train until train error hasn't decreased in 10 rounds.\n",
      "[0]\ttest-error:0.110490\ttrain-error:0.113926\n",
      "[1]\ttest-error:0.110490\ttrain-error:0.113926\n",
      "[2]\ttest-error:0.033520\ttrain-error:0.030401\n",
      "[3]\ttest-error:0.027312\ttrain-error:0.021495\n",
      "[4]\ttest-error:0.031037\ttrain-error:0.025487\n",
      "[5]\ttest-error:0.019243\ttrain-error:0.017350\n",
      "[6]\ttest-error:0.019243\ttrain-error:0.017350\n",
      "[7]\ttest-error:0.015518\ttrain-error:0.013358\n",
      "[8]\ttest-error:0.015518\ttrain-error:0.013358\n",
      "[9]\ttest-error:0.009311\ttrain-error:0.007523\n",
      "[10]\ttest-error:0.015518\ttrain-error:0.013358\n",
      "[11]\ttest-error:0.019243\ttrain-error:0.017350\n",
      "[12]\ttest-error:0.009311\ttrain-error:0.007523\n",
      "[13]\ttest-error:0.001862\ttrain-error:0.001996\n",
      "[14]\ttest-error:0.005587\ttrain-error:0.005988\n",
      "[15]\ttest-error:0.005587\ttrain-error:0.005988\n",
      "[16]\ttest-error:0.005587\ttrain-error:0.005988\n",
      "[17]\ttest-error:0.005587\ttrain-error:0.005988\n",
      "[18]\ttest-error:0.005587\ttrain-error:0.005988\n",
      "[19]\ttest-error:0.005587\ttrain-error:0.005988\n",
      "[20]\ttest-error:0.005587\ttrain-error:0.005988\n",
      "[21]\ttest-error:0.005587\ttrain-error:0.005988\n",
      "[22]\ttest-error:0.001862\ttrain-error:0.001996\n",
      "[23]\ttest-error:0.001862\ttrain-error:0.001996\n",
      "Stopping. Best iteration:\n",
      "[13]\ttest-error:0.001862\ttrain-error:0.001996\n",
      "\n"
     ]
    }
   ],
   "source": [
    "params['eval_metric'] = 'error'\n",
    "num_rounds = 1500\n",
    "\n",
    "bst = xgb.train(params, dtrain, num_rounds, watchlist, early_stopping_rounds=10)"
   ]
  },
  {
   "cell_type": "markdown",
   "metadata": {},
   "source": [
    "When using `early_stopping_rounds` parameter resulting model will have 3 additional fields - `bst.best_score`, `bst.best_iteration` and `bst.best_ntree_limit`."
   ]
  },
  {
   "cell_type": "code",
   "execution_count": 13,
   "metadata": {
    "collapsed": false
   },
   "outputs": [
    {
     "name": "stdout",
     "output_type": "stream",
     "text": [
      "Booster best train score: 0.001996\n",
      "Booster best iteration: 13\n",
      "Booster best number of trees limit: 14\n"
     ]
    }
   ],
   "source": [
    "print(\"Booster best train score: {}\".format(bst.best_score))\n",
    "print(\"Booster best iteration: {}\".format(bst.best_iteration))\n",
    "print(\"Booster best number of trees limit: {}\".format(bst.best_ntree_limit))"
   ]
  },
  {
   "cell_type": "markdown",
   "metadata": {},
   "source": [
    "Also keep in mind that `train()` will return a model from the last iteration, not the best one."
   ]
  },
  {
   "cell_type": "markdown",
   "metadata": {},
   "source": [
    "### Cross validating results\n",
    "Native package provides an option of cross-validating results. It is not as sophisticated as Sklearn package. The next input shows a basic execution. Notice that we are passing only single `DMatrix`. It would be good to merge train and test into one object to have more training samples."
   ]
  },
  {
   "cell_type": "code",
   "execution_count": 30,
   "metadata": {
    "collapsed": false
   },
   "outputs": [
    {
     "data": {
      "text/html": [
       "<div>\n",
       "<table border=\"1\" class=\"dataframe\">\n",
       "  <thead>\n",
       "    <tr style=\"text-align: right;\">\n",
       "      <th></th>\n",
       "      <th>test-error-mean</th>\n",
       "      <th>test-error-std</th>\n",
       "      <th>train-error-mean</th>\n",
       "      <th>train-error-std</th>\n",
       "    </tr>\n",
       "  </thead>\n",
       "  <tbody>\n",
       "    <tr>\n",
       "      <th>0</th>\n",
       "      <td>0.113925</td>\n",
       "      <td>0.013269</td>\n",
       "      <td>0.113926</td>\n",
       "      <td>0.001474</td>\n",
       "    </tr>\n",
       "    <tr>\n",
       "      <th>1</th>\n",
       "      <td>0.113925</td>\n",
       "      <td>0.013269</td>\n",
       "      <td>0.113926</td>\n",
       "      <td>0.001474</td>\n",
       "    </tr>\n",
       "    <tr>\n",
       "      <th>2</th>\n",
       "      <td>0.030399</td>\n",
       "      <td>0.005684</td>\n",
       "      <td>0.030401</td>\n",
       "      <td>0.000632</td>\n",
       "    </tr>\n",
       "    <tr>\n",
       "      <th>3</th>\n",
       "      <td>0.021495</td>\n",
       "      <td>0.005267</td>\n",
       "      <td>0.021495</td>\n",
       "      <td>0.000586</td>\n",
       "    </tr>\n",
       "    <tr>\n",
       "      <th>4</th>\n",
       "      <td>0.025486</td>\n",
       "      <td>0.005446</td>\n",
       "      <td>0.025488</td>\n",
       "      <td>0.000606</td>\n",
       "    </tr>\n",
       "    <tr>\n",
       "      <th>5</th>\n",
       "      <td>0.020725</td>\n",
       "      <td>0.007610</td>\n",
       "      <td>0.019687</td>\n",
       "      <td>0.003491</td>\n",
       "    </tr>\n",
       "    <tr>\n",
       "      <th>6</th>\n",
       "      <td>0.017349</td>\n",
       "      <td>0.003363</td>\n",
       "      <td>0.017350</td>\n",
       "      <td>0.000374</td>\n",
       "    </tr>\n",
       "    <tr>\n",
       "      <th>7</th>\n",
       "      <td>0.015354</td>\n",
       "      <td>0.003697</td>\n",
       "      <td>0.014467</td>\n",
       "      <td>0.001922</td>\n",
       "    </tr>\n",
       "    <tr>\n",
       "      <th>8</th>\n",
       "      <td>0.013359</td>\n",
       "      <td>0.003764</td>\n",
       "      <td>0.013358</td>\n",
       "      <td>0.000418</td>\n",
       "    </tr>\n",
       "    <tr>\n",
       "      <th>9</th>\n",
       "      <td>0.012590</td>\n",
       "      <td>0.004694</td>\n",
       "      <td>0.011737</td>\n",
       "      <td>0.003819</td>\n",
       "    </tr>\n",
       "  </tbody>\n",
       "</table>\n",
       "</div>"
      ],
      "text/plain": [
       "   test-error-mean  test-error-std  train-error-mean  train-error-std\n",
       "0         0.113925        0.013269          0.113926         0.001474\n",
       "1         0.113925        0.013269          0.113926         0.001474\n",
       "2         0.030399        0.005684          0.030401         0.000632\n",
       "3         0.021495        0.005267          0.021495         0.000586\n",
       "4         0.025486        0.005446          0.025488         0.000606\n",
       "5         0.020725        0.007610          0.019687         0.003491\n",
       "6         0.017349        0.003363          0.017350         0.000374\n",
       "7         0.015354        0.003697          0.014467         0.001922\n",
       "8         0.013359        0.003764          0.013358         0.000418\n",
       "9         0.012590        0.004694          0.011737         0.003819"
      ]
     },
     "execution_count": 30,
     "metadata": {},
     "output_type": "execute_result"
    }
   ],
   "source": [
    "num_rounds = 10\n",
    "hist = xgb.cv(params, dtrain, num_rounds, nfold=10, metrics={'error'}, seed=seed)\n",
    "hist"
   ]
  },
  {
   "cell_type": "markdown",
   "metadata": {},
   "source": [
    "Notice that:\n",
    "\n",
    "- by default we get a pandas data frame object (can be changed with `as_pandas` param),\n",
    "- metrics are passed as an argument (muliple values are allowed),\n",
    "- we can use own evaluation metrics (param `feval` and `maximize`),\n",
    "- we can use early stopping feature (param `early_stopping_rounds`)"
   ]
  }
 ],
 "metadata": {
  "kernelspec": {
   "display_name": "Python 3",
   "language": "python",
   "name": "python3"
  },
  "language_info": {
   "codemirror_mode": {
    "name": "ipython",
    "version": 3
   },
   "file_extension": ".py",
   "mimetype": "text/x-python",
   "name": "python",
   "nbconvert_exporter": "python",
   "pygments_lexer": "ipython3",
   "version": "3.5.1"
  }
 },
 "nbformat": 4,
 "nbformat_minor": 0
}
